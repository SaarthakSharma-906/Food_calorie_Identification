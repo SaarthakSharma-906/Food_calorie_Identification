{
 "cells": [
  {
   "cell_type": "code",
   "execution_count": 5,
   "metadata": {},
   "outputs": [
    {
     "name": "stdout",
     "output_type": "stream",
     "text": [
      "[{\"name\": \"banana\", \"calories\": \"Only available for premium subscribers.\", \"serving_size_g\": \"Only available for premium subscribers.\", \"fat_total_g\": 0.3, \"fat_saturated_g\": 0.1, \"protein_g\": \"Only available for premium subscribers.\", \"sodium_mg\": 1, \"potassium_mg\": 22, \"cholesterol_mg\": 0, \"carbohydrates_total_g\": 23.2, \"fiber_g\": 2.6, \"sugar_g\": 12.3}]\n"
     ]
    }
   ],
   "source": [
    "import requests \n",
    "\n",
    "api_key = 'iJnJU+yt3s5eGLG8bn9XxQ==Duxq8mhYB7B8fzVN'\n",
    "query = 'banana'\n",
    "api_url = 'https://api.api-ninjas.com/v1/nutrition?query={}'.format(query)\n",
    "\n",
    "# Make GET request with API key\n",
    "response = requests.get(api_url, headers={'X-Api-Key': api_key})\n",
    "\n",
    "# Check response status\n",
    "if response.status_code == requests.codes.ok:\n",
    "    print(response.text)  # Print response text\n",
    "else:\n",
    "    print(\"Error:\", response.status_code, response.text) "
   ]
  },
  {
   "cell_type": "code",
   "execution_count": null,
   "metadata": {},
   "outputs": [],
   "source": []
  }
 ],
 "metadata": {
  "kernelspec": {
   "display_name": "Python 3",
   "language": "python",
   "name": "python3"
  },
  "language_info": {
   "codemirror_mode": {
    "name": "ipython",
    "version": 3
   },
   "file_extension": ".py",
   "mimetype": "text/x-python",
   "name": "python",
   "nbconvert_exporter": "python",
   "pygments_lexer": "ipython3",
   "version": "3.10.0"
  }
 },
 "nbformat": 4,
 "nbformat_minor": 2
}
